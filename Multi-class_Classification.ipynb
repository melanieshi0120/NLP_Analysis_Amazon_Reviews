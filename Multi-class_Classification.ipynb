{
 "cells": [
  {
   "cell_type": "markdown",
   "metadata": {},
   "source": [
    "# Import packages"
   ]
  },
  {
   "cell_type": "code",
   "execution_count": 1,
   "metadata": {},
   "outputs": [],
   "source": [
    "import pandas as pd\n",
    "import numpy as np\n",
    "import matplotlib.pyplot as plt\n",
    "import seaborn as sns\n",
    "sns.set()"
   ]
  },
  {
   "cell_type": "markdown",
   "metadata": {},
   "source": [
    "# Load the data "
   ]
  },
  {
   "cell_type": "code",
   "execution_count": 2,
   "metadata": {},
   "outputs": [],
   "source": [
    "df=pd.read_csv('/Users/yingyuxuan/Desktop/nyc-mhtn-ds-010620-lectures/Final_Project/Final_project/data/df.csv')"
   ]
  },
  {
   "cell_type": "code",
   "execution_count": 3,
   "metadata": {
    "scrolled": true
   },
   "outputs": [
    {
     "data": {
      "text/html": [
       "<div>\n",
       "<style scoped>\n",
       "    .dataframe tbody tr th:only-of-type {\n",
       "        vertical-align: middle;\n",
       "    }\n",
       "\n",
       "    .dataframe tbody tr th {\n",
       "        vertical-align: top;\n",
       "    }\n",
       "\n",
       "    .dataframe thead th {\n",
       "        text-align: right;\n",
       "    }\n",
       "</style>\n",
       "<table border=\"1\" class=\"dataframe\">\n",
       "  <thead>\n",
       "    <tr style=\"text-align: right;\">\n",
       "      <th></th>\n",
       "      <th>Unnamed: 0</th>\n",
       "      <th>reviewerID</th>\n",
       "      <th>asin</th>\n",
       "      <th>reviewerName</th>\n",
       "      <th>helpful</th>\n",
       "      <th>reviewText</th>\n",
       "      <th>overall</th>\n",
       "      <th>summary</th>\n",
       "      <th>unixReviewTime</th>\n",
       "      <th>reviewTime</th>\n",
       "      <th>combined_text</th>\n",
       "      <th>target</th>\n",
       "      <th>helpfulness_Numerator</th>\n",
       "      <th>helpfulness_Denominator</th>\n",
       "      <th>filtered_review</th>\n",
       "      <th>review_len</th>\n",
       "    </tr>\n",
       "  </thead>\n",
       "  <tbody>\n",
       "    <tr>\n",
       "      <th>0</th>\n",
       "      <td>0</td>\n",
       "      <td>AIXZKN4ACSKI</td>\n",
       "      <td>1881509818</td>\n",
       "      <td>David Briner</td>\n",
       "      <td>[0, 0]</td>\n",
       "      <td>This came in on time and I am veru happy with ...</td>\n",
       "      <td>5.0</td>\n",
       "      <td>Woks very good</td>\n",
       "      <td>1390694400</td>\n",
       "      <td>01 26, 2014</td>\n",
       "      <td>This came in on time and I am veru happy with ...</td>\n",
       "      <td>1</td>\n",
       "      <td>0</td>\n",
       "      <td>0</td>\n",
       "      <td>['came', 'time', 'veru', 'happi', 'use', 'alre...</td>\n",
       "      <td>13</td>\n",
       "    </tr>\n",
       "    <tr>\n",
       "      <th>1</th>\n",
       "      <td>1</td>\n",
       "      <td>A1L5P841VIO02V</td>\n",
       "      <td>1881509818</td>\n",
       "      <td>Jason A. Kramer</td>\n",
       "      <td>[1, 1]</td>\n",
       "      <td>I had a factory Glock tool that I was using fo...</td>\n",
       "      <td>5.0</td>\n",
       "      <td>Works as well as the factory tool</td>\n",
       "      <td>1328140800</td>\n",
       "      <td>02 2, 2012</td>\n",
       "      <td>I had a factory Glock tool that I was using fo...</td>\n",
       "      <td>1</td>\n",
       "      <td>1</td>\n",
       "      <td>1</td>\n",
       "      <td>['factori', 'glock', 'tool', 'use', 'glock', '...</td>\n",
       "      <td>27</td>\n",
       "    </tr>\n",
       "    <tr>\n",
       "      <th>2</th>\n",
       "      <td>2</td>\n",
       "      <td>AB2W04NI4OEAD</td>\n",
       "      <td>1881509818</td>\n",
       "      <td>J. Fernald</td>\n",
       "      <td>[2, 2]</td>\n",
       "      <td>If you don't have a 3/32 punch or would like t...</td>\n",
       "      <td>4.0</td>\n",
       "      <td>It's a punch, that's all.</td>\n",
       "      <td>1330387200</td>\n",
       "      <td>02 28, 2012</td>\n",
       "      <td>If you don't have a 3/32 punch or would like t...</td>\n",
       "      <td>1</td>\n",
       "      <td>2</td>\n",
       "      <td>2</td>\n",
       "      <td>['punch', 'would', 'like', 'glock', 'bag', 'ok...</td>\n",
       "      <td>18</td>\n",
       "    </tr>\n",
       "    <tr>\n",
       "      <th>3</th>\n",
       "      <td>3</td>\n",
       "      <td>A148SVSWKTJKU6</td>\n",
       "      <td>1881509818</td>\n",
       "      <td>Jusitn A. Watts \"Maverick9614\"</td>\n",
       "      <td>[0, 0]</td>\n",
       "      <td>This works no better than any 3/32 punch you w...</td>\n",
       "      <td>4.0</td>\n",
       "      <td>It's a punch with a Glock logo.</td>\n",
       "      <td>1328400000</td>\n",
       "      <td>02 5, 2012</td>\n",
       "      <td>This works no better than any 3/32 punch you w...</td>\n",
       "      <td>1</td>\n",
       "      <td>0</td>\n",
       "      <td>0</td>\n",
       "      <td>['work', 'better', 'punch', 'would', 'find', '...</td>\n",
       "      <td>17</td>\n",
       "    </tr>\n",
       "    <tr>\n",
       "      <th>4</th>\n",
       "      <td>4</td>\n",
       "      <td>AAAWJ6LW9WMOO</td>\n",
       "      <td>1881509818</td>\n",
       "      <td>Material Man</td>\n",
       "      <td>[0, 0]</td>\n",
       "      <td>I purchased this thinking maybe I need a speci...</td>\n",
       "      <td>4.0</td>\n",
       "      <td>Ok,tool does what a regular punch does.</td>\n",
       "      <td>1366675200</td>\n",
       "      <td>04 23, 2013</td>\n",
       "      <td>I purchased this thinking maybe I need a speci...</td>\n",
       "      <td>1</td>\n",
       "      <td>0</td>\n",
       "      <td>0</td>\n",
       "      <td>['purchas', 'think', 'mayb', 'need', 'special'...</td>\n",
       "      <td>28</td>\n",
       "    </tr>\n",
       "  </tbody>\n",
       "</table>\n",
       "</div>"
      ],
      "text/plain": [
       "   Unnamed: 0      reviewerID        asin                    reviewerName  \\\n",
       "0           0    AIXZKN4ACSKI  1881509818                    David Briner   \n",
       "1           1  A1L5P841VIO02V  1881509818                 Jason A. Kramer   \n",
       "2           2   AB2W04NI4OEAD  1881509818                      J. Fernald   \n",
       "3           3  A148SVSWKTJKU6  1881509818  Jusitn A. Watts \"Maverick9614\"   \n",
       "4           4   AAAWJ6LW9WMOO  1881509818                    Material Man   \n",
       "\n",
       "  helpful                                         reviewText  overall  \\\n",
       "0  [0, 0]  This came in on time and I am veru happy with ...      5.0   \n",
       "1  [1, 1]  I had a factory Glock tool that I was using fo...      5.0   \n",
       "2  [2, 2]  If you don't have a 3/32 punch or would like t...      4.0   \n",
       "3  [0, 0]  This works no better than any 3/32 punch you w...      4.0   \n",
       "4  [0, 0]  I purchased this thinking maybe I need a speci...      4.0   \n",
       "\n",
       "                                   summary  unixReviewTime   reviewTime  \\\n",
       "0                           Woks very good      1390694400  01 26, 2014   \n",
       "1        Works as well as the factory tool      1328140800   02 2, 2012   \n",
       "2                It's a punch, that's all.      1330387200  02 28, 2012   \n",
       "3          It's a punch with a Glock logo.      1328400000   02 5, 2012   \n",
       "4  Ok,tool does what a regular punch does.      1366675200  04 23, 2013   \n",
       "\n",
       "                                       combined_text  target  \\\n",
       "0  This came in on time and I am veru happy with ...       1   \n",
       "1  I had a factory Glock tool that I was using fo...       1   \n",
       "2  If you don't have a 3/32 punch or would like t...       1   \n",
       "3  This works no better than any 3/32 punch you w...       1   \n",
       "4  I purchased this thinking maybe I need a speci...       1   \n",
       "\n",
       "   helpfulness_Numerator  helpfulness_Denominator  \\\n",
       "0                      0                        0   \n",
       "1                      1                        1   \n",
       "2                      2                        2   \n",
       "3                      0                        0   \n",
       "4                      0                        0   \n",
       "\n",
       "                                     filtered_review  review_len  \n",
       "0  ['came', 'time', 'veru', 'happi', 'use', 'alre...          13  \n",
       "1  ['factori', 'glock', 'tool', 'use', 'glock', '...          27  \n",
       "2  ['punch', 'would', 'like', 'glock', 'bag', 'ok...          18  \n",
       "3  ['work', 'better', 'punch', 'would', 'find', '...          17  \n",
       "4  ['purchas', 'think', 'mayb', 'need', 'special'...          28  "
      ]
     },
     "execution_count": 3,
     "metadata": {},
     "output_type": "execute_result"
    }
   ],
   "source": [
    "df.head()"
   ]
  },
  {
   "cell_type": "markdown",
   "metadata": {},
   "source": [
    "# EDA"
   ]
  },
  {
   "cell_type": "code",
   "execution_count": 4,
   "metadata": {
    "scrolled": true
   },
   "outputs": [
    {
     "data": {
      "image/png": "[encoded data removed]",
      "text/plain": [
       "<Figure size 432x288 with 1 Axes>"
      ]
     },
     "metadata": {},
     "output_type": "display_data"
    }
   ],
   "source": [
    "df.overall.value_counts().plot(kind='bar',color='blue',title='Rating Counts')\n",
    "plt.show()"
   ]
  },
  {
   "cell_type": "markdown",
   "metadata": {},
   "source": [
    "# Train Test Split"
   ]
  },
  {
   "cell_type": "code",
   "execution_count": 5,
   "metadata": {},
   "outputs": [],
   "source": [
    "#declare inputs and target\n",
    "inputs=df[['filtered_review','unixReviewTime','helpfulness_Numerator', 'helpfulness_Denominator','review_len']]\n",
    "target=df['overall']"
   ]
  },
  {
   "cell_type": "code",
   "execution_count": 6,
   "metadata": {},
   "outputs": [
    {
     "data": {
      "text/html": [
       "<div>\n",
       "<style scoped>\n",
       "    .dataframe tbody tr th:only-of-type {\n",
       "        vertical-align: middle;\n",
       "    }\n",
       "\n",
       "    .dataframe tbody tr th {\n",
       "        vertical-align: top;\n",
       "    }\n",
       "\n",
       "    .dataframe thead th {\n",
       "        text-align: right;\n",
       "    }\n",
       "</style>\n",
       "<table border=\"1\" class=\"dataframe\">\n",
       "  <thead>\n",
       "    <tr style=\"text-align: right;\">\n",
       "      <th></th>\n",
       "      <th>filtered_review</th>\n",
       "      <th>unixReviewTime</th>\n",
       "      <th>helpfulness_Numerator</th>\n",
       "      <th>helpfulness_Denominator</th>\n",
       "      <th>review_len</th>\n",
       "    </tr>\n",
       "  </thead>\n",
       "  <tbody>\n",
       "    <tr>\n",
       "      <th>275333</th>\n",
       "      <td>['light', 'held', 'glock', 'round', 'protrud',...</td>\n",
       "      <td>1403913600</td>\n",
       "      <td>0</td>\n",
       "      <td>0</td>\n",
       "      <td>44</td>\n",
       "    </tr>\n",
       "    <tr>\n",
       "      <th>258272</th>\n",
       "      <td>['repons', 'effect', 'time', 'excel', 'product...</td>\n",
       "      <td>1350000000</td>\n",
       "      <td>1</td>\n",
       "      <td>2</td>\n",
       "      <td>14</td>\n",
       "    </tr>\n",
       "    <tr>\n",
       "      <th>124048</th>\n",
       "      <td>['wish', 'youtub', 'video', 'advertis', 'knife...</td>\n",
       "      <td>1375401600</td>\n",
       "      <td>1</td>\n",
       "      <td>1</td>\n",
       "      <td>39</td>\n",
       "    </tr>\n",
       "    <tr>\n",
       "      <th>107684</th>\n",
       "      <td>['say', 'amaz', 'product', 'wet', 'put', 'arou...</td>\n",
       "      <td>1312675200</td>\n",
       "      <td>2</td>\n",
       "      <td>2</td>\n",
       "      <td>33</td>\n",
       "    </tr>\n",
       "    <tr>\n",
       "      <th>255706</th>\n",
       "      <td>['let', 'start', 'write', 'great', 'target', '...</td>\n",
       "      <td>1365206400</td>\n",
       "      <td>0</td>\n",
       "      <td>0</td>\n",
       "      <td>43</td>\n",
       "    </tr>\n",
       "  </tbody>\n",
       "</table>\n",
       "</div>"
      ],
      "text/plain": [
       "                                          filtered_review  unixReviewTime  \\\n",
       "275333  ['light', 'held', 'glock', 'round', 'protrud',...      1403913600   \n",
       "258272  ['repons', 'effect', 'time', 'excel', 'product...      1350000000   \n",
       "124048  ['wish', 'youtub', 'video', 'advertis', 'knife...      1375401600   \n",
       "107684  ['say', 'amaz', 'product', 'wet', 'put', 'arou...      1312675200   \n",
       "255706  ['let', 'start', 'write', 'great', 'target', '...      1365206400   \n",
       "\n",
       "        helpfulness_Numerator  helpfulness_Denominator  review_len  \n",
       "275333                      0                        0          44  \n",
       "258272                      1                        2          14  \n",
       "124048                      1                        1          39  \n",
       "107684                      2                        2          33  \n",
       "255706                      0                        0          43  "
      ]
     },
     "execution_count": 6,
     "metadata": {},
     "output_type": "execute_result"
    }
   ],
   "source": [
    "from sklearn.model_selection import train_test_split\n",
    "\n",
    "#train test split dataset \n",
    "x_train, x_test, y_train, y_test = train_test_split(inputs, target, test_size=.2, random_state=0)\n",
    "x_train.head()"
   ]
  },
  {
   "cell_type": "markdown",
   "metadata": {},
   "source": [
    "# Resampling "
   ]
  },
  {
   "cell_type": "code",
   "execution_count": 7,
   "metadata": {},
   "outputs": [],
   "source": [
    "from sklearn.utils import resample"
   ]
  },
  {
   "cell_type": "code",
   "execution_count": 8,
   "metadata": {},
   "outputs": [
    {
     "data": {
      "text/html": [
       "<div>\n",
       "<style scoped>\n",
       "    .dataframe tbody tr th:only-of-type {\n",
       "        vertical-align: middle;\n",
       "    }\n",
       "\n",
       "    .dataframe tbody tr th {\n",
       "        vertical-align: top;\n",
       "    }\n",
       "\n",
       "    .dataframe thead th {\n",
       "        text-align: right;\n",
       "    }\n",
       "</style>\n",
       "<table border=\"1\" class=\"dataframe\">\n",
       "  <thead>\n",
       "    <tr style=\"text-align: right;\">\n",
       "      <th></th>\n",
       "      <th>filtered_review</th>\n",
       "      <th>unixReviewTime</th>\n",
       "      <th>helpfulness_Numerator</th>\n",
       "      <th>helpfulness_Denominator</th>\n",
       "      <th>review_len</th>\n",
       "      <th>target</th>\n",
       "    </tr>\n",
       "  </thead>\n",
       "  <tbody>\n",
       "    <tr>\n",
       "      <th>275333</th>\n",
       "      <td>['light', 'held', 'glock', 'round', 'protrud',...</td>\n",
       "      <td>1403913600</td>\n",
       "      <td>0</td>\n",
       "      <td>0</td>\n",
       "      <td>44</td>\n",
       "      <td>5.0</td>\n",
       "    </tr>\n",
       "    <tr>\n",
       "      <th>258272</th>\n",
       "      <td>['repons', 'effect', 'time', 'excel', 'product...</td>\n",
       "      <td>1350000000</td>\n",
       "      <td>1</td>\n",
       "      <td>2</td>\n",
       "      <td>14</td>\n",
       "      <td>5.0</td>\n",
       "    </tr>\n",
       "    <tr>\n",
       "      <th>124048</th>\n",
       "      <td>['wish', 'youtub', 'video', 'advertis', 'knife...</td>\n",
       "      <td>1375401600</td>\n",
       "      <td>1</td>\n",
       "      <td>1</td>\n",
       "      <td>39</td>\n",
       "      <td>5.0</td>\n",
       "    </tr>\n",
       "    <tr>\n",
       "      <th>107684</th>\n",
       "      <td>['say', 'amaz', 'product', 'wet', 'put', 'arou...</td>\n",
       "      <td>1312675200</td>\n",
       "      <td>2</td>\n",
       "      <td>2</td>\n",
       "      <td>33</td>\n",
       "      <td>5.0</td>\n",
       "    </tr>\n",
       "    <tr>\n",
       "      <th>255706</th>\n",
       "      <td>['let', 'start', 'write', 'great', 'target', '...</td>\n",
       "      <td>1365206400</td>\n",
       "      <td>0</td>\n",
       "      <td>0</td>\n",
       "      <td>43</td>\n",
       "      <td>4.0</td>\n",
       "    </tr>\n",
       "  </tbody>\n",
       "</table>\n",
       "</div>"
      ],
      "text/plain": [
       "                                          filtered_review  unixReviewTime  \\\n",
       "275333  ['light', 'held', 'glock', 'round', 'protrud',...      1403913600   \n",
       "258272  ['repons', 'effect', 'time', 'excel', 'product...      1350000000   \n",
       "124048  ['wish', 'youtub', 'video', 'advertis', 'knife...      1375401600   \n",
       "107684  ['say', 'amaz', 'product', 'wet', 'put', 'arou...      1312675200   \n",
       "255706  ['let', 'start', 'write', 'great', 'target', '...      1365206400   \n",
       "\n",
       "        helpfulness_Numerator  helpfulness_Denominator  review_len  target  \n",
       "275333                      0                        0          44     5.0  \n",
       "258272                      1                        2          14     5.0  \n",
       "124048                      1                        1          39     5.0  \n",
       "107684                      2                        2          33     5.0  \n",
       "255706                      0                        0          43     4.0  "
      ]
     },
     "execution_count": 8,
     "metadata": {},
     "output_type": "execute_result"
    }
   ],
   "source": [
    "# concatenate our training data back together\n",
    "training  = pd.DataFrame()\n",
    "training[list(x_train.columns)]=x_train\n",
    "training['target']=y_train\n",
    "training.head()"
   ]
  },
  {
   "cell_type": "code",
   "execution_count": 9,
   "metadata": {},
   "outputs": [
    {
     "name": "stdout",
     "output_type": "stream",
     "text": [
      "rating:1 - review count: 7241\n",
      "rating:2 - review count: 8151\n",
      "rating:3 - review count: 19214\n",
      "rating:4 - review count: 51790\n",
      "rating:5 - review count: 150673\n"
     ]
    }
   ],
   "source": [
    "# separate minority and majority classes\n",
    "rating_1= training[training.target==1.0]\n",
    "rating_2= training[training.target==2.0]\n",
    "rating_3= training[training.target==3.0]\n",
    "rating_4= training[training.target==4.0]\n",
    "rating_5= training[training.target==5.0]\n",
    "list_rating_data=[rating_1,rating_2,rating_3,rating_4,rating_5]\n",
    "# Get a class count to understand the class imbalance.\n",
    "for i in range(0,5):\n",
    "    print('rating:{} - review count: '.format(i+1)+ str(len(list_rating_data[i])))\n"
   ]
  },
  {
   "cell_type": "code",
   "execution_count": 10,
   "metadata": {},
   "outputs": [],
   "source": [
    "# upsample minority\n",
    "def upsample(minority):\n",
    "    df= resample(minority,replace=True, # sample with replacement\n",
    "                  n_samples=len(rating_5), # match number in majority class\n",
    "                   random_state=23) # reproducible results\n",
    "    return df"
   ]
  },
  {
   "cell_type": "code",
   "execution_count": 11,
   "metadata": {},
   "outputs": [],
   "source": [
    "# using the upsamole function to obtain upsampled data \n",
    "upsampled_1=upsample(rating_1)\n",
    "upsampled_2=upsample(rating_2)\n",
    "upsampled_3=upsample(rating_3)\n",
    "upsampled_4=upsample(rating_4)"
   ]
  },
  {
   "cell_type": "code",
   "execution_count": 12,
   "metadata": {},
   "outputs": [],
   "source": [
    "# combine majority and upsampled minority\n",
    "upsampled= pd.concat([upsampled_1,upsampled_2,upsampled_3,upsampled_4,rating_5])"
   ]
  },
  {
   "cell_type": "code",
   "execution_count": 13,
   "metadata": {},
   "outputs": [
    {
     "data": {
      "text/plain": [
       "5.0    150673\n",
       "4.0    150673\n",
       "1.0    150673\n",
       "3.0    150673\n",
       "2.0    150673\n",
       "Name: target, dtype: int64"
      ]
     },
     "execution_count": 13,
     "metadata": {},
     "output_type": "execute_result"
    }
   ],
   "source": [
    "# check new class counts\n",
    "upsampled.target.value_counts()"
   ]
  },
  {
   "cell_type": "code",
   "execution_count": 14,
   "metadata": {},
   "outputs": [],
   "source": [
    "# re-declare y_train and x_train\n",
    "y_train = upsampled.target\n",
    "x_train = upsampled.drop('target', axis=1)"
   ]
  },
  {
   "cell_type": "code",
   "execution_count": 15,
   "metadata": {},
   "outputs": [
    {
     "data": {
      "text/html": [
       "<div>\n",
       "<style scoped>\n",
       "    .dataframe tbody tr th:only-of-type {\n",
       "        vertical-align: middle;\n",
       "    }\n",
       "\n",
       "    .dataframe tbody tr th {\n",
       "        vertical-align: top;\n",
       "    }\n",
       "\n",
       "    .dataframe thead th {\n",
       "        text-align: right;\n",
       "    }\n",
       "</style>\n",
       "<table border=\"1\" class=\"dataframe\">\n",
       "  <thead>\n",
       "    <tr style=\"text-align: right;\">\n",
       "      <th></th>\n",
       "      <th>filtered_review</th>\n",
       "      <th>unixReviewTime</th>\n",
       "      <th>helpfulness_Numerator</th>\n",
       "      <th>helpfulness_Denominator</th>\n",
       "      <th>review_len</th>\n",
       "    </tr>\n",
       "  </thead>\n",
       "  <tbody>\n",
       "    <tr>\n",
       "      <th>73216</th>\n",
       "      <td>['drill', 'hole', 'bigger', 'small', 'poor', '...</td>\n",
       "      <td>1344297600</td>\n",
       "      <td>2</td>\n",
       "      <td>3</td>\n",
       "      <td>13</td>\n",
       "    </tr>\n",
       "    <tr>\n",
       "      <th>56495</th>\n",
       "      <td>['order', 'two', 'time', 'neither', 'realli', ...</td>\n",
       "      <td>1353715200</td>\n",
       "      <td>2</td>\n",
       "      <td>2</td>\n",
       "      <td>90</td>\n",
       "    </tr>\n",
       "    <tr>\n",
       "      <th>38199</th>\n",
       "      <td>['soft', 'foam', 'filler', 'advert', 'airsoft'...</td>\n",
       "      <td>1399852800</td>\n",
       "      <td>1</td>\n",
       "      <td>1</td>\n",
       "      <td>50</td>\n",
       "    </tr>\n",
       "    <tr>\n",
       "      <th>101637</th>\n",
       "      <td>['saw', 'absolut', 'would', 'cut', 'thick', 'l...</td>\n",
       "      <td>1358294400</td>\n",
       "      <td>29</td>\n",
       "      <td>39</td>\n",
       "      <td>52</td>\n",
       "    </tr>\n",
       "    <tr>\n",
       "      <th>46888</th>\n",
       "      <td>['hate', 'product', 'order', 'accid', 'fit', '...</td>\n",
       "      <td>1360540800</td>\n",
       "      <td>0</td>\n",
       "      <td>13</td>\n",
       "      <td>10</td>\n",
       "    </tr>\n",
       "  </tbody>\n",
       "</table>\n",
       "</div>"
      ],
      "text/plain": [
       "                                          filtered_review  unixReviewTime  \\\n",
       "73216   ['drill', 'hole', 'bigger', 'small', 'poor', '...      1344297600   \n",
       "56495   ['order', 'two', 'time', 'neither', 'realli', ...      1353715200   \n",
       "38199   ['soft', 'foam', 'filler', 'advert', 'airsoft'...      1399852800   \n",
       "101637  ['saw', 'absolut', 'would', 'cut', 'thick', 'l...      1358294400   \n",
       "46888   ['hate', 'product', 'order', 'accid', 'fit', '...      1360540800   \n",
       "\n",
       "        helpfulness_Numerator  helpfulness_Denominator  review_len  \n",
       "73216                       2                        3          13  \n",
       "56495                       2                        2          90  \n",
       "38199                       1                        1          50  \n",
       "101637                     29                       39          52  \n",
       "46888                       0                       13          10  "
      ]
     },
     "execution_count": 15,
     "metadata": {},
     "output_type": "execute_result"
    }
   ],
   "source": [
    "x_train.head()"
   ]
  },
  {
   "cell_type": "markdown",
   "metadata": {},
   "source": [
    "# Vectorizing  Text Data"
   ]
  },
  {
   "cell_type": "code",
   "execution_count": 16,
   "metadata": {},
   "outputs": [],
   "source": [
    "from sklearn.feature_extraction.text import CountVectorizer \n",
    "vectorizer=CountVectorizer()"
   ]
  },
  {
   "cell_type": "code",
   "execution_count": 17,
   "metadata": {},
   "outputs": [],
   "source": [
    "X_trainc=vectorizer.fit_transform(x_train.filtered_review)\n",
    "X_testc=vectorizer.transform(x_test.filtered_review)"
   ]
  },
  {
   "cell_type": "markdown",
   "metadata": {},
   "source": [
    "# Naive Bayes Classifier"
   ]
  },
  {
   "cell_type": "code",
   "execution_count": 59,
   "metadata": {},
   "outputs": [],
   "source": [
    "from sklearn.naive_bayes import MultinomialNB\n",
    "from sklearn.metrics import mean_squared_error, accuracy_score, f1_score,make_scorer\n",
    "from sklearn.metrics import confusion_matrix\n",
    "from sklearn.model_selection import GridSearchCV\n",
    "f1 = make_scorer(f1_score , average='weighted')\n",
    "\n",
    "def NB_GridSearch(X_train, y_train):\n",
    "    grid_params = {'alpha':[0.1,0.2,0.3,0.4,0.5],\n",
    "                     'fit_prior': [True, False],  }\n",
    "    \n",
    "    gs = GridSearchCV( MultinomialNB(), grid_params,scoring=f1)\n",
    "    gs.fit(X_train, y_train)\n",
    "    print(\"Best Score: \", gs.best_score_)\n",
    "    print(\"Best Alpha: \", gs.best_params_)\n",
    "\n",
    "    return gs.best_params_.values()"
   ]
  },
  {
   "cell_type": "code",
   "execution_count": 60,
   "metadata": {},
   "outputs": [],
   "source": [
    "def NaiveBayes(X_train,y_train,X_test,y_test,alpha,fit_prior):\n",
    "    # fit the training dataset on the NB classifier\n",
    "    Naive = MultinomialNB(alpha=0.1, fit_prior= True)\n",
    "    Naive.fit(X_train,y_train)\n",
    "    #prediction\n",
    "    nb_train_pre=Naive.predict(X_train)\n",
    "    nb_test_pre=Naive.predict(X_test)\n",
    "    # Use accuracy_score function to get the accuracy\n",
    "    print(\"Naive Bayes Train Accuracy Score :\",accuracy_score(nb_train_pre, y_train))\n",
    "    print(\"Naive Bayes Test Accuracy Score :\",accuracy_score(nb_test_pre, y_test))\n",
    "    # calculate f1 scores for test data and train data \n",
    "    nb_f1_score_test=f1_score(y_test,nb_test_pre,average='weighted')\n",
    "    nb_f1_score_train=f1_score(y_train,nb_train_pre,average='weighted')\n",
    "    print(\"Train data f1 score:{}\".format(nb_f1_score_train))\n",
    "    print(\"Test data f1 score:{}\".format(nb_f1_score_test ))\n",
    "    print(\"confusion_matrix:{}\".format(confusion_matrix(y_test, nb_test_pre)))\n",
    "    return nb_train_pre,nb_test_pre"
   ]
  },
  {
   "cell_type": "code",
   "execution_count": 61,
   "metadata": {},
   "outputs": [
    {
     "name": "stdout",
     "output_type": "stream",
     "text": [
      "Best Score:  0.6268916465557821\n",
      "Best Alpha:  {'alpha': 0.1, 'fit_prior': True}\n"
     ]
    }
   ],
   "source": [
    "# to get best score and best alpha\n",
    "alpha1,fit_prior1=NB_GridSearch(X_trainc, y_train)"
   ]
  },
  {
   "cell_type": "code",
   "execution_count": 62,
   "metadata": {},
   "outputs": [
    {
     "name": "stdout",
     "output_type": "stream",
     "text": [
      "Naive Bayes Train Accuracy Score : 0.6479940002522018\n",
      "Naive Bayes Test Accuracy Score : 0.5838901262063846\n",
      "Train data f1 score:0.6451416866551558\n",
      "Test data f1 score:0.606789049380649\n",
      "confusion_matrix:[[ 1005   403   192    89   115]\n",
      " [  527   589   477   261   199]\n",
      " [  566   721  1655  1232   683]\n",
      " [  629   704  1932  5270  4484]\n",
      " [ 1576  1139  1905  6828 26087]]\n"
     ]
    }
   ],
   "source": [
    "# obtian the results Accuracy Score and \n",
    "nb_train_prec,nb_test_prec=NaiveBayes(X_trainc,y_train,X_testc,y_test,alpha1,fit_prior1)"
   ]
  },
  {
   "cell_type": "markdown",
   "metadata": {},
   "source": [
    "# Neural Network"
   ]
  },
  {
   "cell_type": "code",
   "execution_count": 23,
   "metadata": {},
   "outputs": [],
   "source": [
    "# thanks to :https://realpython.com/python-keras-text-classification/\n",
    "import keras\n",
    "from keras.models import Sequential\n",
    "from keras.layers import Dense, Dropout\n",
    "from keras.optimizers import RMSprop\n",
    "from keras.optimizers import Adam, SGD\n",
    "from keras.utils import to_categorical"
   ]
  },
  {
   "cell_type": "code",
   "execution_count": 24,
   "metadata": {},
   "outputs": [],
   "source": [
    "def history_model(X_trainc, y_train,X_testc, y_test):\n",
    "    #Before we build our model, we need to know the input dimension of our feature vectors.\n",
    "    input_dim = X_trainc.shape[1] \n",
    "    # Add layers one by one in order \n",
    "    model = Sequential()\n",
    "    model.add(keras.layers.Dense(20, input_dim=input_dim, activation='relu', kernel_initializer='he_uniform'))\n",
    "    model.add(keras.layers.Dense(6, activation='softmax'))\n",
    "    opt = SGD(lr=0.01, momentum=0.9)\n",
    "    #specify the optimizer and the loss function.\n",
    "    model.compile(loss='categorical_crossentropy', \n",
    "                  optimizer=opt, \n",
    "                  metrics=['accuracy'])\n",
    "\n",
    "    #Give an overview of the model and the number of parameters available for training:\n",
    "    model.summary()\n",
    "    # # fit the model\n",
    "    history = model.fit(X_trainc, y_train,epochs=50, verbose=1,\n",
    "                    validation_data=(X_testc, y_test),batch_size=100)\n",
    "    return history, model"
   ]
  },
  {
   "cell_type": "code",
   "execution_count": 25,
   "metadata": {
    "collapsed": true
   },
   "outputs": [
    {
     "name": "stdout",
     "output_type": "stream",
     "text": [
      "Model: \"sequential_1\"\n",
      "_________________________________________________________________\n",
      "Layer (type)                 Output Shape              Param #   \n",
      "=================================================================\n",
      "dense_1 (Dense)              (None, 10)                683600    \n",
      "_________________________________________________________________\n",
      "dense_2 (Dense)              (None, 6)                 66        \n",
      "=================================================================\n",
      "Total params: 683,666\n",
      "Trainable params: 683,666\n",
      "Non-trainable params: 0\n",
      "_________________________________________________________________\n",
      "Train on 753365 samples, validate on 59268 samples\n",
      "Epoch 1/50\n",
      "753365/753365 [==============================] - 358s 475us/step - loss: 1.0461 - accuracy: 0.5716 - val_loss: 1.0974 - val_accuracy: 0.5569\n",
      "Epoch 2/50\n",
      "753365/753365 [==============================] - 362s 481us/step - loss: 0.8446 - accuracy: 0.6636 - val_loss: 1.0735 - val_accuracy: 0.5875\n",
      "Epoch 3/50\n",
      "753365/753365 [==============================] - 378s 502us/step - loss: 0.7468 - accuracy: 0.7043 - val_loss: 1.1581 - val_accuracy: 0.5641\n",
      "Epoch 4/50\n",
      "753365/753365 [==============================] - 362s 481us/step - loss: 0.6855 - accuracy: 0.7289 - val_loss: 1.1725 - val_accuracy: 0.5828\n",
      "Epoch 5/50\n",
      "753365/753365 [==============================] - 364s 484us/step - loss: 0.6455 - accuracy: 0.7439 - val_loss: 1.2238 - val_accuracy: 0.5776\n",
      "Epoch 6/50\n",
      "753365/753365 [==============================] - 384s 510us/step - loss: 0.6135 - accuracy: 0.7565 - val_loss: 1.2618 - val_accuracy: 0.5646\n",
      "Epoch 7/50\n",
      "753365/753365 [==============================] - 349s 463us/step - loss: 0.5897 - accuracy: 0.7648 - val_loss: 1.2465 - val_accuracy: 0.5950\n",
      "Epoch 8/50\n",
      "753365/753365 [==============================] - 343s 455us/step - loss: 0.5695 - accuracy: 0.7726 - val_loss: 1.2872 - val_accuracy: 0.5942\n",
      "Epoch 9/50\n",
      "753365/753365 [==============================] - 316s 419us/step - loss: 0.5525 - accuracy: 0.7793 - val_loss: 1.3483 - val_accuracy: 0.5872\n",
      "Epoch 10/50\n",
      "753365/753365 [==============================] - 309s 410us/step - loss: 0.5386 - accuracy: 0.7844 - val_loss: 1.3447 - val_accuracy: 0.5929\n",
      "Epoch 11/50\n",
      "753365/753365 [==============================] - 367s 487us/step - loss: 0.5272 - accuracy: 0.7889 - val_loss: 1.4089 - val_accuracy: 0.5839\n",
      "Epoch 12/50\n",
      "753365/753365 [==============================] - 337s 448us/step - loss: 0.5157 - accuracy: 0.7934 - val_loss: 1.4124 - val_accuracy: 0.5892\n",
      "Epoch 13/50\n",
      "753365/753365 [==============================] - 334s 443us/step - loss: 0.5061 - accuracy: 0.7968 - val_loss: 1.4151 - val_accuracy: 0.6040\n",
      "Epoch 14/50\n",
      "753365/753365 [==============================] - 338s 449us/step - loss: 0.4949 - accuracy: 0.8011 - val_loss: 1.4616 - val_accuracy: 0.5892\n",
      "Epoch 15/50\n",
      "753365/753365 [==============================] - 495s 657us/step - loss: 0.4898 - accuracy: 0.8027 - val_loss: 1.4490 - val_accuracy: 0.6129\n",
      "Epoch 16/50\n",
      "753365/753365 [==============================] - 357s 474us/step - loss: 0.4826 - accuracy: 0.8054 - val_loss: 1.4680 - val_accuracy: 0.6104\n",
      "Epoch 17/50\n",
      "753365/753365 [==============================] - 344s 456us/step - loss: 0.4742 - accuracy: 0.8089 - val_loss: 1.5831 - val_accuracy: 0.5698\n",
      "Epoch 18/50\n",
      "753365/753365 [==============================] - 370s 491us/step - loss: 0.4683 - accuracy: 0.8106 - val_loss: 1.5840 - val_accuracy: 0.5824\n",
      "Epoch 19/50\n",
      "753365/753365 [==============================] - 378s 501us/step - loss: 0.4634 - accuracy: 0.8127 - val_loss: 1.5907 - val_accuracy: 0.5843\n",
      "Epoch 20/50\n",
      "753365/753365 [==============================] - 366s 485us/step - loss: 0.4579 - accuracy: 0.8149 - val_loss: 1.5962 - val_accuracy: 0.6035\n",
      "Epoch 21/50\n",
      "753365/753365 [==============================] - 356s 473us/step - loss: 0.4518 - accuracy: 0.8175 - val_loss: 1.6114 - val_accuracy: 0.6030\n",
      "Epoch 22/50\n",
      "753365/753365 [==============================] - 337s 448us/step - loss: 0.4484 - accuracy: 0.8183 - val_loss: 1.6793 - val_accuracy: 0.5849\n",
      "Epoch 23/50\n",
      "753365/753365 [==============================] - 333s 442us/step - loss: 0.4426 - accuracy: 0.8206 - val_loss: 1.7155 - val_accuracy: 0.5734\n",
      "Epoch 24/50\n",
      "753365/753365 [==============================] - 335s 445us/step - loss: 0.4382 - accuracy: 0.8222 - val_loss: 1.7238 - val_accuracy: 0.5829\n",
      "Epoch 25/50\n",
      "753365/753365 [==============================] - 559s 742us/step - loss: 0.4332 - accuracy: 0.8243 - val_loss: 1.7325 - val_accuracy: 0.5814\n",
      "Epoch 26/50\n",
      "753365/753365 [==============================] - 338s 449us/step - loss: 0.4311 - accuracy: 0.8251 - val_loss: 1.7462 - val_accuracy: 0.5900\n",
      "Epoch 27/50\n",
      "753365/753365 [==============================] - 337s 447us/step - loss: 0.4262 - accuracy: 0.8266 - val_loss: 1.7657 - val_accuracy: 0.5877\n",
      "Epoch 28/50\n",
      "753365/753365 [==============================] - 1264s 2ms/step - loss: 0.4236 - accuracy: 0.8279 - val_loss: 1.8086 - val_accuracy: 0.5793\n",
      "Epoch 29/50\n",
      "753365/753365 [==============================] - 327s 434us/step - loss: 0.4207 - accuracy: 0.8285 - val_loss: 1.8269 - val_accuracy: 0.5868\n",
      "Epoch 30/50\n",
      "753365/753365 [==============================] - 340s 451us/step - loss: 0.4174 - accuracy: 0.8302 - val_loss: 1.8346 - val_accuracy: 0.5946\n",
      "Epoch 31/50\n",
      "753365/753365 [==============================] - 324s 431us/step - loss: 0.4141 - accuracy: 0.8312 - val_loss: 1.8318 - val_accuracy: 0.5913\n",
      "Epoch 32/50\n",
      "753365/753365 [==============================] - 331s 440us/step - loss: 0.4100 - accuracy: 0.8331 - val_loss: 1.8685 - val_accuracy: 0.5907\n",
      "Epoch 33/50\n",
      "753365/753365 [==============================] - 1027s 1ms/step - loss: 0.4074 - accuracy: 0.8339 - val_loss: 1.8787 - val_accuracy: 0.5899\n",
      "Epoch 34/50\n",
      "753365/753365 [==============================] - 364s 483us/step - loss: 0.4050 - accuracy: 0.8349 - val_loss: 1.9450 - val_accuracy: 0.5738\n",
      "Epoch 35/50\n",
      "753365/753365 [==============================] - 337s 447us/step - loss: 0.4027 - accuracy: 0.8357 - val_loss: 1.9085 - val_accuracy: 0.6004\n",
      "Epoch 36/50\n",
      "753365/753365 [==============================] - 333s 442us/step - loss: 0.4011 - accuracy: 0.8365 - val_loss: 1.9582 - val_accuracy: 0.5763\n",
      "Epoch 37/50\n",
      "753365/753365 [==============================] - 357s 473us/step - loss: 0.3984 - accuracy: 0.8374 - val_loss: 1.9524 - val_accuracy: 0.5996\n",
      "Epoch 38/50\n",
      "753365/753365 [==============================] - 366s 486us/step - loss: 0.3946 - accuracy: 0.8389 - val_loss: 1.9867 - val_accuracy: 0.5805\n",
      "Epoch 39/50\n",
      "753365/753365 [==============================] - 342s 453us/step - loss: 0.3942 - accuracy: 0.8389 - val_loss: 1.9370 - val_accuracy: 0.6068\n",
      "Epoch 40/50\n",
      "753365/753365 [==============================] - 348s 462us/step - loss: 0.3923 - accuracy: 0.8398 - val_loss: 1.9856 - val_accuracy: 0.5991\n",
      "Epoch 41/50\n",
      "753365/753365 [==============================] - 329s 437us/step - loss: 0.3900 - accuracy: 0.8405 - val_loss: 2.0592 - val_accuracy: 0.5721\n",
      "Epoch 42/50\n",
      "753365/753365 [==============================] - 330s 438us/step - loss: 0.3924 - accuracy: 0.8397 - val_loss: 2.0278 - val_accuracy: 0.5895\n",
      "Epoch 43/50\n",
      "753365/753365 [==============================] - 336s 446us/step - loss: 0.3882 - accuracy: 0.8416 - val_loss: 2.0397 - val_accuracy: 0.5885\n",
      "Epoch 44/50\n",
      "753365/753365 [==============================] - 340s 452us/step - loss: 0.3843 - accuracy: 0.8430 - val_loss: 2.0643 - val_accuracy: 0.5891\n",
      "Epoch 45/50\n",
      "753365/753365 [==============================] - 337s 448us/step - loss: 0.3856 - accuracy: 0.8426 - val_loss: 2.1017 - val_accuracy: 0.5888\n",
      "Epoch 46/50\n",
      "753365/753365 [==============================] - 339s 450us/step - loss: 0.3814 - accuracy: 0.8438 - val_loss: 2.1146 - val_accuracy: 0.5820\n",
      "Epoch 47/50\n",
      "753365/753365 [==============================] - 339s 449us/step - loss: 0.3780 - accuracy: 0.8449 - val_loss: 2.1374 - val_accuracy: 0.5759\n",
      "Epoch 48/50\n",
      "753365/753365 [==============================] - 332s 441us/step - loss: 0.3797 - accuracy: 0.8446 - val_loss: 2.1551 - val_accuracy: 0.5736\n",
      "Epoch 49/50\n",
      "753365/753365 [==============================] - 326s 433us/step - loss: 0.3749 - accuracy: 0.8465 - val_loss: 2.1402 - val_accuracy: 0.5952\n",
      "Epoch 50/50\n"
     ]
    },
    {
     "name": "stdout",
     "output_type": "stream",
     "text": [
      "753365/753365 [==============================] - 306s 407us/step - loss: 0.3729 - accuracy: 0.8471 - val_loss: 2.1729 - val_accuracy: 0.5845\n"
     ]
    }
   ],
   "source": [
    "# history, model=history_model(X_trainc, to_categorical(y_train),X_testc, to_categorical(y_test))"
   ]
  },
  {
   "cell_type": "code",
   "execution_count": 27,
   "metadata": {},
   "outputs": [],
   "source": [
    "from sklearn.metrics import confusion_matrix\n",
    "#prediction\n",
    "nn_train_pre=model.predict_classes(X_trainc)\n",
    "nn_test_pre=model.predict_classes(X_testc)"
   ]
  },
  {
   "cell_type": "code",
   "execution_count": 85,
   "metadata": {},
   "outputs": [],
   "source": [
    "#calculate f1 scores for test data and train data \n",
    "nn_f1_score_test=f1_score([int(i) for i in y_test],nn_test_pre,average='weighted')\n",
    "nn_f1_score_train=f1_score(y_train,nn_train_pre,average='weighted')"
   ]
  },
  {
   "cell_type": "code",
   "execution_count": 86,
   "metadata": {},
   "outputs": [
    {
     "name": "stdout",
     "output_type": "stream",
     "text": [
      "Train data f1 score:0.8482564474194133\n",
      "Test data f1 score:0.6085141831165239\n"
     ]
    }
   ],
   "source": [
    "print(\"Train data f1 score:{}\".format(nn_f1_score_train))\n",
    "print(\"Test data f1 score:{}\".format(nn_f1_score_test ))"
   ]
  },
  {
   "cell_type": "code",
   "execution_count": 87,
   "metadata": {},
   "outputs": [
    {
     "name": "stdout",
     "output_type": "stream",
     "text": [
      "confusion_matrix:[[  742   429   341   131   161]\n",
      " [  417   479   671   277   209]\n",
      " [  365   635  1921  1282   654]\n",
      " [  311   586  2608  5309  4205]\n",
      " [  676   846  2936  6883 26194]]\n"
     ]
    }
   ],
   "source": [
    "print(\"confusion_matrix:{}\".format(confusion_matrix(y_test, nn_test_pre)))"
   ]
  },
  {
   "cell_type": "markdown",
   "metadata": {},
   "source": [
    "# Random Forest "
   ]
  },
  {
   "cell_type": "code",
   "execution_count": 35,
   "metadata": {},
   "outputs": [],
   "source": [
    "from sklearn.model_selection import GridSearchCV\n",
    "from sklearn.ensemble import RandomForestClassifier\n",
    "from  sklearn.metrics import make_scorer,precision_score,recall_score,f1_score"
   ]
  },
  {
   "cell_type": "code",
   "execution_count": 36,
   "metadata": {},
   "outputs": [],
   "source": [
    "# given prameters different values\n",
    "random_grid={\n",
    "             'n_estimators':list(range(400,500,10))\n",
    "#              'max_depth':list(range(1,30,2)),\n",
    "#              'min_samples_leaf':list(range(1,23,2)),\n",
    "#              'min_samples_split':list(range(2,21,2))                \n",
    "             }\n",
    "# random forest model\n",
    "rf=RandomForestClassifier(n_jobs=-1,random_state=0)"
   ]
  },
  {
   "cell_type": "code",
   "execution_count": 39,
   "metadata": {},
   "outputs": [],
   "source": [
    "# Grid searchCV\n",
    "GS=GridSearchCV(rf,random_grid,cv=5,scoring=f1,verbose=1)"
   ]
  },
  {
   "cell_type": "code",
   "execution_count": 41,
   "metadata": {},
   "outputs": [],
   "source": [
    "# # fit the train data\n",
    "# GS.fit(X_trainc,list(y_train)) "
   ]
  },
  {
   "cell_type": "code",
   "execution_count": null,
   "metadata": {},
   "outputs": [],
   "source": [
    "# obtian best parameters best score\n",
    "GS.best_score_,GS.best_params_"
   ]
  },
  {
   "cell_type": "code",
   "execution_count": 42,
   "metadata": {},
   "outputs": [],
   "source": [
    "rfc=RandomForestClassifier(n_estimators=480,\n",
    "                           max_depth=11, \n",
    "                           min_samples_leaf=11,\n",
    "                           min_samples_split= 2,\n",
    "                           n_jobs=-1,  random_state=0)"
   ]
  },
  {
   "cell_type": "code",
   "execution_count": 43,
   "metadata": {},
   "outputs": [
    {
     "data": {
      "text/plain": [
       "RandomForestClassifier(bootstrap=True, ccp_alpha=0.0, class_weight=None,\n",
       "                       criterion='gini', max_depth=11, max_features='auto',\n",
       "                       max_leaf_nodes=None, max_samples=None,\n",
       "                       min_impurity_decrease=0.0, min_impurity_split=None,\n",
       "                       min_samples_leaf=11, min_samples_split=2,\n",
       "                       min_weight_fraction_leaf=0.0, n_estimators=480,\n",
       "                       n_jobs=-1, oob_score=False, random_state=0, verbose=0,\n",
       "                       warm_start=False)"
      ]
     },
     "execution_count": 43,
     "metadata": {},
     "output_type": "execute_result"
    }
   ],
   "source": [
    "rfc.fit(X_trainc,list(y_train))"
   ]
  },
  {
   "cell_type": "code",
   "execution_count": 44,
   "metadata": {},
   "outputs": [
    {
     "name": "stdout",
     "output_type": "stream",
     "text": [
      "Score of train data : 0.5359566743875811\n",
      "Score of test data : 0.6153404872781265\n"
     ]
    }
   ],
   "source": [
    "# Score for train and test data \n",
    "print(\"Score of train data :\" ,rfc.score(X_trainc,y_train))\n",
    "print(\"Score of test data :\" ,rfc.score(X_testc,y_test))"
   ]
  },
  {
   "cell_type": "code",
   "execution_count": 45,
   "metadata": {},
   "outputs": [],
   "source": [
    "# prediction\n",
    "rf_train_pre=rfc.predict(X_trainc)\n",
    "rf_test_pre=rfc.predict(X_testc)\n",
    "f1_score_test=f1_score(list(y_test),rf_test_pre,average='weighted')"
   ]
  },
  {
   "cell_type": "code",
   "execution_count": 46,
   "metadata": {
    "scrolled": true
   },
   "outputs": [
    {
     "name": "stdout",
     "output_type": "stream",
     "text": [
      "F1 Score of test data : 0.6186662277709427\n"
     ]
    }
   ],
   "source": [
    "print(\"F1 Score of test data :\" ,f1_score_test)"
   ]
  },
  {
   "cell_type": "markdown",
   "metadata": {},
   "source": [
    "# Model Stacking"
   ]
  },
  {
   "cell_type": "markdown",
   "metadata": {},
   "source": [
    "Having now obtained the first-level predictions, one can think of it as essentially building a new set of features to be used as training data for the next classifier. As per the code below, we are therefore having as our new columns the first-level predictions from our earlier classifiers and we train the next classifier on this."
   ]
  },
  {
   "cell_type": "code",
   "execution_count": 54,
   "metadata": {},
   "outputs": [
    {
     "data": {
      "text/html": [
       "<div>\n",
       "<style scoped>\n",
       "    .dataframe tbody tr th:only-of-type {\n",
       "        vertical-align: middle;\n",
       "    }\n",
       "\n",
       "    .dataframe tbody tr th {\n",
       "        vertical-align: top;\n",
       "    }\n",
       "\n",
       "    .dataframe thead th {\n",
       "        text-align: right;\n",
       "    }\n",
       "</style>\n",
       "<table border=\"1\" class=\"dataframe\">\n",
       "  <thead>\n",
       "    <tr style=\"text-align: right;\">\n",
       "      <th></th>\n",
       "      <th>Naive_Bayes</th>\n",
       "      <th>Neural_Network</th>\n",
       "      <th>Random_Forest2</th>\n",
       "    </tr>\n",
       "  </thead>\n",
       "  <tbody>\n",
       "    <tr>\n",
       "      <th>0</th>\n",
       "      <td>1.0</td>\n",
       "      <td>1</td>\n",
       "      <td>1.0</td>\n",
       "    </tr>\n",
       "    <tr>\n",
       "      <th>1</th>\n",
       "      <td>1.0</td>\n",
       "      <td>1</td>\n",
       "      <td>1.0</td>\n",
       "    </tr>\n",
       "    <tr>\n",
       "      <th>2</th>\n",
       "      <td>1.0</td>\n",
       "      <td>1</td>\n",
       "      <td>1.0</td>\n",
       "    </tr>\n",
       "    <tr>\n",
       "      <th>3</th>\n",
       "      <td>1.0</td>\n",
       "      <td>1</td>\n",
       "      <td>1.0</td>\n",
       "    </tr>\n",
       "    <tr>\n",
       "      <th>4</th>\n",
       "      <td>1.0</td>\n",
       "      <td>1</td>\n",
       "      <td>1.0</td>\n",
       "    </tr>\n",
       "  </tbody>\n",
       "</table>\n",
       "</div>"
      ],
      "text/plain": [
       "   Naive_Bayes  Neural_Network  Random_Forest2\n",
       "0          1.0               1             1.0\n",
       "1          1.0               1             1.0\n",
       "2          1.0               1             1.0\n",
       "3          1.0               1             1.0\n",
       "4          1.0               1             1.0"
      ]
     },
     "execution_count": 54,
     "metadata": {},
     "output_type": "execute_result"
    }
   ],
   "source": [
    "# combine all the outputs together as new features \n",
    "\n",
    "X_train = pd.DataFrame( {\n",
    "    \n",
    "     'Naive_Bayes': nb_train_prec.ravel(),\n",
    "     'Neural_Network': nn_train_pre.ravel(),\n",
    "     'Random_Forest2': rf_train_pre.ravel(),\n",
    "                                        \n",
    "    })\n",
    "\n",
    "X_test = pd.DataFrame( {\n",
    "    \n",
    "     'Naive_Bayes': nb_test_prec.ravel(),\n",
    "     'Neural_Network': nn_test_pre.ravel(),\n",
    "     'Random_Forest2': rf_test_pre.ravel(),\n",
    "                                        \n",
    "    })\n",
    "\n",
    "X_train.head()"
   ]
  },
  {
   "cell_type": "markdown",
   "metadata": {},
   "source": [
    "# XGboost"
   ]
  },
  {
   "cell_type": "code",
   "execution_count": 94,
   "metadata": {},
   "outputs": [],
   "source": [
    "from sklearn.model_selection import RandomizedSearchCV\n",
    "import xgboost as xgb\n",
    "\n",
    "# given prameters different values\n",
    "RS={\n",
    "             'n_estimators':list(range(100,500,10)),\n",
    "                'max_depth':list(range(1,30,2)),\n",
    "               'max_features':[1,2,3],\n",
    "#              'min_samples_leaf':list(range(1,23,2)),\n",
    "#               'min_samples_split':list(range(2,21,2))                \n",
    "             }\n",
    "gbm=xgb.XGBClassifier(\n",
    "                        n_jobs=-1,  \n",
    "                        random_state=0)\n",
    "# randommized searchCV\n",
    "rs=RandomizedSearchCV(gbm,RS,cv=5,scoring=f1,verbose=3)"
   ]
  },
  {
   "cell_type": "code",
   "execution_count": 95,
   "metadata": {
    "scrolled": true
   },
   "outputs": [
    {
     "name": "stdout",
     "output_type": "stream",
     "text": [
      "Fitting 5 folds for each of 10 candidates, totalling 50 fits\n",
      "[CV] n_estimators=200, max_features=1, max_depth=3 ...................\n"
     ]
    },
    {
     "name": "stderr",
     "output_type": "stream",
     "text": [
      "[Parallel(n_jobs=1)]: Using backend SequentialBackend with 1 concurrent workers.\n"
     ]
    },
    {
     "name": "stdout",
     "output_type": "stream",
     "text": [
      "[CV]  n_estimators=200, max_features=1, max_depth=3, score=0.850, total= 2.0min\n",
      "[CV] n_estimators=200, max_features=1, max_depth=3 ...................\n"
     ]
    },
    {
     "name": "stderr",
     "output_type": "stream",
     "text": [
      "[Parallel(n_jobs=1)]: Done   1 out of   1 | elapsed:  2.0min remaining:    0.0s\n"
     ]
    },
    {
     "name": "stdout",
     "output_type": "stream",
     "text": [
      "[CV]  n_estimators=200, max_features=1, max_depth=3, score=0.852, total= 1.9min\n",
      "[CV] n_estimators=200, max_features=1, max_depth=3 ...................\n"
     ]
    },
    {
     "name": "stderr",
     "output_type": "stream",
     "text": [
      "[Parallel(n_jobs=1)]: Done   2 out of   2 | elapsed:  3.8min remaining:    0.0s\n"
     ]
    },
    {
     "name": "stdout",
     "output_type": "stream",
     "text": [
      "[CV]  n_estimators=200, max_features=1, max_depth=3, score=0.851, total= 1.8min\n",
      "[CV] n_estimators=200, max_features=1, max_depth=3 ...................\n",
      "[CV]  n_estimators=200, max_features=1, max_depth=3, score=0.852, total= 1.8min\n",
      "[CV] n_estimators=200, max_features=1, max_depth=3 ...................\n",
      "[CV]  n_estimators=200, max_features=1, max_depth=3, score=0.850, total= 1.8min\n",
      "[CV] n_estimators=210, max_features=1, max_depth=3 ...................\n",
      "[CV]  n_estimators=210, max_features=1, max_depth=3, score=0.850, total= 2.0min\n",
      "[CV] n_estimators=210, max_features=1, max_depth=3 ...................\n",
      "[CV]  n_estimators=210, max_features=1, max_depth=3, score=0.852, total= 2.0min\n",
      "[CV] n_estimators=210, max_features=1, max_depth=3 ...................\n",
      "[CV]  n_estimators=210, max_features=1, max_depth=3, score=0.851, total= 1.9min\n",
      "[CV] n_estimators=210, max_features=1, max_depth=3 ...................\n",
      "[CV]  n_estimators=210, max_features=1, max_depth=3, score=0.852, total= 2.1min\n",
      "[CV] n_estimators=210, max_features=1, max_depth=3 ...................\n",
      "[CV]  n_estimators=210, max_features=1, max_depth=3, score=0.850, total= 1.9min\n",
      "[CV] n_estimators=430, max_features=1, max_depth=7 ...................\n",
      "[CV]  n_estimators=430, max_features=1, max_depth=7, score=0.850, total= 7.7min\n",
      "[CV] n_estimators=430, max_features=1, max_depth=7 ...................\n",
      "[CV]  n_estimators=430, max_features=1, max_depth=7, score=0.852, total= 7.7min\n",
      "[CV] n_estimators=430, max_features=1, max_depth=7 ...................\n",
      "[CV]  n_estimators=430, max_features=1, max_depth=7, score=0.851, total= 7.7min\n",
      "[CV] n_estimators=430, max_features=1, max_depth=7 ...................\n",
      "[CV]  n_estimators=430, max_features=1, max_depth=7, score=0.852, total= 7.7min\n",
      "[CV] n_estimators=430, max_features=1, max_depth=7 ...................\n",
      "[CV]  n_estimators=430, max_features=1, max_depth=7, score=0.850, total= 8.5min\n",
      "[CV] n_estimators=160, max_features=2, max_depth=25 ..................\n",
      "[CV]  n_estimators=160, max_features=2, max_depth=25, score=0.850, total= 3.8min\n",
      "[CV] n_estimators=160, max_features=2, max_depth=25 ..................\n",
      "[CV]  n_estimators=160, max_features=2, max_depth=25, score=0.852, total= 3.8min\n",
      "[CV] n_estimators=160, max_features=2, max_depth=25 ..................\n",
      "[CV]  n_estimators=160, max_features=2, max_depth=25, score=0.851, total= 3.7min\n",
      "[CV] n_estimators=160, max_features=2, max_depth=25 ..................\n",
      "[CV]  n_estimators=160, max_features=2, max_depth=25, score=0.852, total= 3.6min\n",
      "[CV] n_estimators=160, max_features=2, max_depth=25 ..................\n",
      "[CV]  n_estimators=160, max_features=2, max_depth=25, score=0.850, total= 3.7min\n",
      "[CV] n_estimators=410, max_features=2, max_depth=7 ...................\n",
      "[CV]  n_estimators=410, max_features=2, max_depth=7, score=0.850, total= 7.3min\n",
      "[CV] n_estimators=410, max_features=2, max_depth=7 ...................\n",
      "[CV]  n_estimators=410, max_features=2, max_depth=7, score=0.852, total= 7.4min\n",
      "[CV] n_estimators=410, max_features=2, max_depth=7 ...................\n",
      "[CV]  n_estimators=410, max_features=2, max_depth=7, score=0.851, total= 7.8min\n",
      "[CV] n_estimators=410, max_features=2, max_depth=7 ...................\n",
      "[CV]  n_estimators=410, max_features=2, max_depth=7, score=0.852, total= 7.4min\n",
      "[CV] n_estimators=410, max_features=2, max_depth=7 ...................\n",
      "[CV]  n_estimators=410, max_features=2, max_depth=7, score=0.850, total= 7.8min\n",
      "[CV] n_estimators=110, max_features=2, max_depth=25 ..................\n",
      "[CV]  n_estimators=110, max_features=2, max_depth=25, score=0.850, total= 2.5min\n",
      "[CV] n_estimators=110, max_features=2, max_depth=25 ..................\n",
      "[CV]  n_estimators=110, max_features=2, max_depth=25, score=0.852, total= 2.5min\n",
      "[CV] n_estimators=110, max_features=2, max_depth=25 ..................\n",
      "[CV]  n_estimators=110, max_features=2, max_depth=25, score=0.851, total= 2.5min\n",
      "[CV] n_estimators=110, max_features=2, max_depth=25 ..................\n",
      "[CV]  n_estimators=110, max_features=2, max_depth=25, score=0.852, total= 2.5min\n",
      "[CV] n_estimators=110, max_features=2, max_depth=25 ..................\n",
      "[CV]  n_estimators=110, max_features=2, max_depth=25, score=0.850, total= 2.4min\n",
      "[CV] n_estimators=290, max_features=2, max_depth=29 ..................\n",
      "[CV]  n_estimators=290, max_features=2, max_depth=29, score=0.850, total= 6.8min\n",
      "[CV] n_estimators=290, max_features=2, max_depth=29 ..................\n",
      "[CV]  n_estimators=290, max_features=2, max_depth=29, score=0.852, total= 6.8min\n",
      "[CV] n_estimators=290, max_features=2, max_depth=29 ..................\n",
      "[CV]  n_estimators=290, max_features=2, max_depth=29, score=0.851, total= 7.0min\n",
      "[CV] n_estimators=290, max_features=2, max_depth=29 ..................\n",
      "[CV]  n_estimators=290, max_features=2, max_depth=29, score=0.852, total= 6.8min\n",
      "[CV] n_estimators=290, max_features=2, max_depth=29 ..................\n",
      "[CV]  n_estimators=290, max_features=2, max_depth=29, score=0.850, total= 7.5min\n",
      "[CV] n_estimators=160, max_features=1, max_depth=15 ..................\n",
      "[CV]  n_estimators=160, max_features=1, max_depth=15, score=0.850, total= 3.7min\n",
      "[CV] n_estimators=160, max_features=1, max_depth=15 ..................\n",
      "[CV]  n_estimators=160, max_features=1, max_depth=15, score=0.852, total= 3.7min\n",
      "[CV] n_estimators=160, max_features=1, max_depth=15 ..................\n",
      "[CV]  n_estimators=160, max_features=1, max_depth=15, score=0.851, total= 3.8min\n",
      "[CV] n_estimators=160, max_features=1, max_depth=15 ..................\n",
      "[CV]  n_estimators=160, max_features=1, max_depth=15, score=0.852, total= 3.7min\n",
      "[CV] n_estimators=160, max_features=1, max_depth=15 ..................\n",
      "[CV]  n_estimators=160, max_features=1, max_depth=15, score=0.850, total= 3.6min\n",
      "[CV] n_estimators=400, max_features=3, max_depth=15 ..................\n",
      "[CV]  n_estimators=400, max_features=3, max_depth=15, score=0.850, total=10.4min\n",
      "[CV] n_estimators=400, max_features=3, max_depth=15 ..................\n",
      "[CV]  n_estimators=400, max_features=3, max_depth=15, score=0.852, total= 9.7min\n",
      "[CV] n_estimators=400, max_features=3, max_depth=15 ..................\n",
      "[CV]  n_estimators=400, max_features=3, max_depth=15, score=0.851, total= 9.7min\n",
      "[CV] n_estimators=400, max_features=3, max_depth=15 ..................\n",
      "[CV]  n_estimators=400, max_features=3, max_depth=15, score=0.852, total= 9.5min\n",
      "[CV] n_estimators=400, max_features=3, max_depth=15 ..................\n",
      "[CV]  n_estimators=400, max_features=3, max_depth=15, score=0.850, total=10.3min\n",
      "[CV] n_estimators=180, max_features=3, max_depth=25 ..................\n",
      "[CV]  n_estimators=180, max_features=3, max_depth=25, score=0.850, total= 4.2min\n",
      "[CV] n_estimators=180, max_features=3, max_depth=25 ..................\n",
      "[CV]  n_estimators=180, max_features=3, max_depth=25, score=0.852, total= 4.2min\n",
      "[CV] n_estimators=180, max_features=3, max_depth=25 ..................\n",
      "[CV]  n_estimators=180, max_features=3, max_depth=25, score=0.851, total= 4.3min\n",
      "[CV] n_estimators=180, max_features=3, max_depth=25 ..................\n",
      "[CV]  n_estimators=180, max_features=3, max_depth=25, score=0.852, total= 4.1min\n",
      "[CV] n_estimators=180, max_features=3, max_depth=25 ..................\n",
      "[CV]  n_estimators=180, max_features=3, max_depth=25, score=0.850, total= 4.1min\n"
     ]
    },
    {
     "name": "stderr",
     "output_type": "stream",
     "text": [
      "[Parallel(n_jobs=1)]: Done  50 out of  50 | elapsed: 251.4min finished\n"
     ]
    },
    {
     "data": {
      "text/plain": [
       "RandomizedSearchCV(cv=5, error_score=nan,\n",
       "                   estimator=XGBClassifier(base_score=0.5, booster='gbtree',\n",
       "                                           colsample_bylevel=1,\n",
       "                                           colsample_bynode=1,\n",
       "                                           colsample_bytree=1, gamma=0,\n",
       "                                           learning_rate=0.1, max_delta_step=0,\n",
       "                                           max_depth=3, min_child_weight=1,\n",
       "                                           missing=None, n_estimators=100,\n",
       "                                           n_jobs=-1, nthread=None,\n",
       "                                           objective='binary:logistic',\n",
       "                                           random_state=0, reg_alpha=0,\n",
       "                                           reg_lambda=1, s...\n",
       "                   param_distributions={'max_depth': [1, 3, 5, 7, 9, 11, 13, 15,\n",
       "                                                      17, 19, 21, 23, 25, 27,\n",
       "                                                      29],\n",
       "                                        'max_features': [1, 2, 3],\n",
       "                                        'n_estimators': [100, 110, 120, 130,\n",
       "                                                         140, 150, 160, 170,\n",
       "                                                         180, 190, 200, 210,\n",
       "                                                         220, 230, 240, 250,\n",
       "                                                         260, 270, 280, 290,\n",
       "                                                         300, 310, 320, 330,\n",
       "                                                         340, 350, 360, 370,\n",
       "                                                         380, 390, ...]},\n",
       "                   pre_dispatch='2*n_jobs', random_state=None, refit=True,\n",
       "                   return_train_score=False,\n",
       "                   scoring=make_scorer(f1_score, average=weighted), verbose=3)"
      ]
     },
     "execution_count": 95,
     "metadata": {},
     "output_type": "execute_result"
    }
   ],
   "source": [
    "# fit the train data\n",
    "rs.fit(X_train,y_train)"
   ]
  },
  {
   "cell_type": "code",
   "execution_count": 96,
   "metadata": {},
   "outputs": [
    {
     "data": {
      "text/plain": [
       "(0.8510033841350996, {'n_estimators': 200, 'max_features': 1, 'max_depth': 3})"
      ]
     },
     "execution_count": 96,
     "metadata": {},
     "output_type": "execute_result"
    }
   ],
   "source": [
    "# obtian best parameters best score\n",
    "rs.best_score_,rs.best_params_"
   ]
  },
  {
   "cell_type": "code",
   "execution_count": 104,
   "metadata": {
    "scrolled": true
   },
   "outputs": [
    {
     "data": {
      "text/plain": [
       "XGBClassifier(base_score=0.5, booster='gbtree', colsample_bylevel=1,\n",
       "              colsample_bynode=1, colsample_bytree=1, gamma=0,\n",
       "              learning_rate=0.1, max_delta_step=0, max_depth=4, max_features=1,\n",
       "              min_child_weight=1, missing=None, n_estimators=195, n_jobs=-1,\n",
       "              nthread=None, objective='multi:softprob', random_state=0,\n",
       "              reg_alpha=0, reg_lambda=1, scale_pos_weight=1, seed=None,\n",
       "              silent=None, subsample=1, verbosity=1)"
      ]
     },
     "execution_count": 104,
     "metadata": {},
     "output_type": "execute_result"
    }
   ],
   "source": [
    "GBM = xgb.XGBClassifier(max_features= 1,\n",
    "                        n_estimators=200,\n",
    "                        max_depth=3,\n",
    "                        n_jobs=-1,  \n",
    "                        random_state=0)\n",
    "# fit the model \n",
    "GBM.fit(X_train, y_train)"
   ]
  },
  {
   "cell_type": "code",
   "execution_count": 105,
   "metadata": {},
   "outputs": [
    {
     "name": "stdout",
     "output_type": "stream",
     "text": [
      "F1 Score of train data : 0.851056849332589\n",
      "F1 Score of test data : 0.5893644055870956\n"
     ]
    }
   ],
   "source": [
    "#predictions\n",
    "train_pre=GBM.predict(X_train)\n",
    "test_pre=GBM.predict(X_test)\n",
    "# obtian f1 score\n",
    "f1_score_train=f1_score(list(y_train),train_pre,average=\"weighted\")\n",
    "f1_score_test=f1_score(list(y_test),test_pre,average=\"weighted\")\n",
    "# Score for train and test data \n",
    "print(\"F1 Score of train data :\" , f1_score_train)\n",
    "print(\"F1 Score of test data :\" ,f1_score_test)"
   ]
  },
  {
   "cell_type": "code",
   "execution_count": 162,
   "metadata": {
    "code_folding": [],
    "scrolled": false
   },
   "outputs": [
    {
     "name": "stdout",
     "output_type": "stream",
     "text": [
      "Confusion matrix, without normalization\n",
      "[[  742   429   341   136   156]\n",
      " [  417   479   671   288   198]\n",
      " [  365   635  1921  1386   550]\n",
      " [  311   586  2608  6040  3474]\n",
      " [  676   846  2936  9151 23926]]\n",
      "Normalized confusion matrix\n",
      "[[0.4113082  0.23780488 0.18902439 0.07538803 0.0864745 ]\n",
      " [0.20311739 0.2333171  0.32683877 0.14028251 0.09644423]\n",
      " [0.07514927 0.13073914 0.39551163 0.28536133 0.11323862]\n",
      " [0.02388816 0.04501114 0.20032261 0.46393732 0.26684077]\n",
      " [0.01800986 0.02253896 0.07822033 0.24379912 0.63743173]]\n"
     ]
    },
    {
     "data": {
      "image/png": "[encoded data removed]",
      "text/plain": [
       "<Figure size 432x288 with 2 Axes>"
      ]
     },
     "metadata": {},
     "output_type": "display_data"
    },
    {
     "data": {
      "image/png": "[encoded data removed]",
      "text/plain": [
       "<Figure size 432x288 with 2 Axes>"
      ]
     },
     "metadata": {},
     "output_type": "display_data"
    }
   ],
   "source": [
    "from sklearn.metrics import plot_confusion_matrix\n",
    "# Plot non-normalized confusion matrix\n",
    "titles_options = [(\"Confusion matrix, without normalization\", None),\n",
    "                  (\"Normalized confusion matrix\", 'true')]\n",
    "for title, normalize in titles_options:\n",
    "    disp = plot_confusion_matrix(GBM,X_test,y_test,\n",
    "                                 display_labels=[1,2,3,4,5],\n",
    "                                 cmap=plt.cm.Blues,\n",
    "                                 normalize=normalize)\n",
    "\n",
    "    disp.ax_.set_title(title)\n",
    "    print(title)\n",
    "    print(disp.confusion_matrix)\n",
    "\n",
    "plt.show()"
   ]
  },
  {
   "cell_type": "markdown",
   "metadata": {},
   "source": [
    "# Neural Network"
   ]
  },
  {
   "cell_type": "code",
   "execution_count": 168,
   "metadata": {},
   "outputs": [],
   "source": [
    "def history_model(X_train, y_train,X_test, y_test):\n",
    "    #Before we build our model, we need to know the input dimension of our feature vectors.\n",
    "    input_dim = X_train.shape[1] \n",
    "    # Add layers one by one in order \n",
    "    model = Sequential()\n",
    "    model.add(keras.layers.Dense(20, input_dim=input_dim, activation='relu'))\n",
    "    model.add(keras.layers.Dense(6, activation='softmax'))\n",
    "    #specify the optimizer and the loss function.\n",
    "    model.compile(loss='categorical_crossentropy', \n",
    "                  optimizer='adam', \n",
    "                  metrics=['accuracy'])\n",
    "\n",
    "    #Give an overview of the model and the number of parameters available for training:\n",
    "    model.summary()\n",
    "    # # fit the model\n",
    "    history = model.fit(X_train, y_train,epochs=60, verbose=1,\n",
    "                    validation_data=(X_test, y_test),batch_size=70)\n",
    "    return history, model"
   ]
  },
  {
   "cell_type": "code",
   "execution_count": 169,
   "metadata": {},
   "outputs": [],
   "source": [
    "Y_train=to_categorical(y_train)\n",
    "Y_test=to_categorical(y_test)"
   ]
  },
  {
   "cell_type": "code",
   "execution_count": 170,
   "metadata": {},
   "outputs": [
    {
     "name": "stdout",
     "output_type": "stream",
     "text": [
      "Model: \"sequential_3\"\n",
      "_________________________________________________________________\n",
      "Layer (type)                 Output Shape              Param #   \n",
      "=================================================================\n",
      "dense_5 (Dense)              (None, 20)                80        \n",
      "_________________________________________________________________\n",
      "dense_6 (Dense)              (None, 6)                 126       \n",
      "=================================================================\n",
      "Total params: 206\n",
      "Trainable params: 206\n",
      "Non-trainable params: 0\n",
      "_________________________________________________________________\n",
      "Train on 753365 samples, validate on 59268 samples\n",
      "Epoch 1/60\n",
      "753365/753365 [==============================] - 15s 20us/step - loss: 0.6579 - accuracy: 0.8034 - val_loss: 1.7867 - val_accuracy: 0.5819\n",
      "Epoch 2/60\n",
      "753365/753365 [==============================] - 15s 20us/step - loss: 0.5098 - accuracy: 0.8481 - val_loss: 1.6499 - val_accuracy: 0.5519\n",
      "Epoch 3/60\n",
      "753365/753365 [==============================] - 16s 21us/step - loss: 0.4633 - accuracy: 0.8507 - val_loss: 1.4373 - val_accuracy: 0.5745\n",
      "Epoch 4/60\n",
      "753365/753365 [==============================] - 20s 26us/step - loss: 0.4469 - accuracy: 0.8515 - val_loss: 1.4029 - val_accuracy: 0.5990\n",
      "Epoch 5/60\n",
      "753365/753365 [==============================] - 16s 22us/step - loss: 0.4369 - accuracy: 0.8513 - val_loss: 1.4020 - val_accuracy: 0.5734\n",
      "Epoch 6/60\n",
      "753365/753365 [==============================] - 17s 22us/step - loss: 0.4328 - accuracy: 0.8516 - val_loss: 1.4000 - val_accuracy: 0.5545\n",
      "Epoch 7/60\n",
      "753365/753365 [==============================] - 15s 20us/step - loss: 0.4319 - accuracy: 0.8515 - val_loss: 1.3728 - val_accuracy: 0.5774\n",
      "Epoch 8/60\n",
      "753365/753365 [==============================] - 16s 21us/step - loss: 0.4310 - accuracy: 0.8515 - val_loss: 1.3941 - val_accuracy: 0.5556\n",
      "Epoch 9/60\n",
      "753365/753365 [==============================] - 16s 21us/step - loss: 0.4306 - accuracy: 0.8516 - val_loss: 1.3615 - val_accuracy: 0.5953\n",
      "Epoch 10/60\n",
      "753365/753365 [==============================] - 16s 21us/step - loss: 0.4302 - accuracy: 0.8517 - val_loss: 1.3559 - val_accuracy: 0.5746\n",
      "Epoch 11/60\n",
      "753365/753365 [==============================] - 16s 22us/step - loss: 0.4298 - accuracy: 0.8514 - val_loss: 1.4051 - val_accuracy: 0.5556\n",
      "Epoch 12/60\n",
      "753365/753365 [==============================] - 17s 23us/step - loss: 0.4294 - accuracy: 0.8517 - val_loss: 1.4126 - val_accuracy: 0.5554\n",
      "Epoch 13/60\n",
      "753365/753365 [==============================] - 17s 22us/step - loss: 0.4291 - accuracy: 0.8512 - val_loss: 1.3384 - val_accuracy: 0.5965\n",
      "Epoch 14/60\n",
      "753365/753365 [==============================] - 16s 22us/step - loss: 0.4289 - accuracy: 0.8513 - val_loss: 1.3605 - val_accuracy: 0.6063\n",
      "Epoch 15/60\n",
      "753365/753365 [==============================] - 16s 22us/step - loss: 0.4284 - accuracy: 0.8517 - val_loss: 1.3254 - val_accuracy: 0.5975\n",
      "Epoch 16/60\n",
      "753365/753365 [==============================] - 17s 22us/step - loss: 0.4281 - accuracy: 0.8515 - val_loss: 1.3753 - val_accuracy: 0.5563\n",
      "Epoch 17/60\n",
      "753365/753365 [==============================] - 16s 22us/step - loss: 0.4277 - accuracy: 0.8515 - val_loss: 1.2929 - val_accuracy: 0.6096\n",
      "Epoch 18/60\n",
      "753365/753365 [==============================] - 17s 22us/step - loss: 0.4273 - accuracy: 0.8519 - val_loss: 1.3031 - val_accuracy: 0.5969\n",
      "Epoch 19/60\n",
      "753365/753365 [==============================] - 17s 23us/step - loss: 0.4270 - accuracy: 0.8516 - val_loss: 1.3092 - val_accuracy: 0.5968\n",
      "Epoch 20/60\n",
      "753365/753365 [==============================] - 17s 22us/step - loss: 0.4266 - accuracy: 0.8518 - val_loss: 1.3124 - val_accuracy: 0.5982\n",
      "Epoch 21/60\n",
      "753365/753365 [==============================] - 17s 22us/step - loss: 0.4262 - accuracy: 0.8517 - val_loss: 1.3571 - val_accuracy: 0.5545\n",
      "Epoch 22/60\n",
      "753365/753365 [==============================] - 17s 23us/step - loss: 0.4259 - accuracy: 0.8515 - val_loss: 1.3029 - val_accuracy: 0.5548\n",
      "Epoch 23/60\n",
      "753365/753365 [==============================] - 17s 22us/step - loss: 0.4256 - accuracy: 0.8515 - val_loss: 1.3019 - val_accuracy: 0.5761\n",
      "Epoch 24/60\n",
      "753365/753365 [==============================] - 17s 22us/step - loss: 0.4253 - accuracy: 0.8516 - val_loss: 1.3054 - val_accuracy: 0.5969\n",
      "Epoch 25/60\n",
      "753365/753365 [==============================] - 16s 22us/step - loss: 0.4250 - accuracy: 0.8516 - val_loss: 1.2961 - val_accuracy: 0.6063\n",
      "Epoch 26/60\n",
      "753365/753365 [==============================] - 17s 23us/step - loss: 0.4248 - accuracy: 0.8517 - val_loss: 1.2898 - val_accuracy: 0.5969\n",
      "Epoch 27/60\n",
      "753365/753365 [==============================] - 17s 22us/step - loss: 0.4246 - accuracy: 0.8517 - val_loss: 1.2707 - val_accuracy: 0.5968\n",
      "Epoch 28/60\n",
      "753365/753365 [==============================] - 17s 22us/step - loss: 0.4245 - accuracy: 0.8516 - val_loss: 1.2659 - val_accuracy: 0.6059\n",
      "Epoch 29/60\n",
      "753365/753365 [==============================] - 16s 22us/step - loss: 0.4243 - accuracy: 0.8517 - val_loss: 1.3163 - val_accuracy: 0.5553\n",
      "Epoch 30/60\n",
      "753365/753365 [==============================] - 16s 22us/step - loss: 0.4242 - accuracy: 0.8513 - val_loss: 1.2924 - val_accuracy: 0.5968\n",
      "Epoch 31/60\n",
      "753365/753365 [==============================] - 16s 22us/step - loss: 0.4242 - accuracy: 0.8516 - val_loss: 1.3307 - val_accuracy: 0.5535\n",
      "Epoch 32/60\n",
      "753365/753365 [==============================] - 16s 22us/step - loss: 0.4242 - accuracy: 0.8515 - val_loss: 1.3074 - val_accuracy: 0.5750\n",
      "Epoch 33/60\n",
      "753365/753365 [==============================] - 15s 20us/step - loss: 0.4241 - accuracy: 0.8516 - val_loss: 1.2943 - val_accuracy: 0.5540\n",
      "Epoch 34/60\n",
      "753365/753365 [==============================] - 16s 22us/step - loss: 0.4239 - accuracy: 0.8516 - val_loss: 1.2637 - val_accuracy: 0.6059\n",
      "Epoch 35/60\n",
      "753365/753365 [==============================] - 16s 21us/step - loss: 0.4240 - accuracy: 0.8515 - val_loss: 1.2685 - val_accuracy: 0.6028\n",
      "Epoch 36/60\n",
      "753365/753365 [==============================] - 15s 20us/step - loss: 0.4239 - accuracy: 0.8515 - val_loss: 1.2993 - val_accuracy: 0.5994\n",
      "Epoch 37/60\n",
      "753365/753365 [==============================] - 15s 20us/step - loss: 0.4239 - accuracy: 0.8514 - val_loss: 1.2864 - val_accuracy: 0.5986\n",
      "Epoch 38/60\n",
      "753365/753365 [==============================] - 17s 23us/step - loss: 0.4238 - accuracy: 0.8517 - val_loss: 1.2903 - val_accuracy: 0.5957\n",
      "Epoch 39/60\n",
      "753365/753365 [==============================] - 19s 25us/step - loss: 0.4238 - accuracy: 0.8516 - val_loss: 1.2833 - val_accuracy: 0.5952\n",
      "Epoch 40/60\n",
      "753365/753365 [==============================] - 22s 29us/step - loss: 0.4238 - accuracy: 0.8515 - val_loss: 1.3048 - val_accuracy: 0.5548\n",
      "Epoch 41/60\n",
      "753365/753365 [==============================] - 22s 29us/step - loss: 0.4238 - accuracy: 0.8515 - val_loss: 1.2913 - val_accuracy: 0.5978\n",
      "Epoch 42/60\n",
      "753365/753365 [==============================] - 20s 27us/step - loss: 0.4236 - accuracy: 0.8515 - val_loss: 1.3318 - val_accuracy: 0.5774\n",
      "Epoch 43/60\n",
      "753365/753365 [==============================] - 21s 27us/step - loss: 0.4235 - accuracy: 0.8517 - val_loss: 1.3360 - val_accuracy: 0.5540\n",
      "Epoch 44/60\n",
      "753365/753365 [==============================] - 21s 27us/step - loss: 0.4235 - accuracy: 0.8516 - val_loss: 1.3218 - val_accuracy: 0.5556\n",
      "Epoch 45/60\n",
      "753365/753365 [==============================] - 18s 23us/step - loss: 0.4234 - accuracy: 0.8517 - val_loss: 1.2962 - val_accuracy: 0.5994\n",
      "Epoch 46/60\n",
      "753365/753365 [==============================] - 16s 21us/step - loss: 0.4235 - accuracy: 0.8516 - val_loss: 1.3087 - val_accuracy: 0.5553\n",
      "Epoch 47/60\n",
      "753365/753365 [==============================] - 17s 22us/step - loss: 0.4234 - accuracy: 0.8516 - val_loss: 1.3279 - val_accuracy: 0.5554\n",
      "Epoch 48/60\n",
      "753365/753365 [==============================] - 16s 21us/step - loss: 0.4233 - accuracy: 0.8514 - val_loss: 1.2857 - val_accuracy: 0.5773\n",
      "Epoch 49/60\n",
      "753365/753365 [==============================] - 16s 21us/step - loss: 0.4233 - accuracy: 0.8515 - val_loss: 1.2925 - val_accuracy: 0.5971\n",
      "Epoch 50/60\n",
      "753365/753365 [==============================] - 16s 21us/step - loss: 0.4233 - accuracy: 0.8517 - val_loss: 1.2771 - val_accuracy: 0.5990\n"
     ]
    },
    {
     "name": "stdout",
     "output_type": "stream",
     "text": [
      "Epoch 51/60\n",
      "753365/753365 [==============================] - 14s 19us/step - loss: 0.4233 - accuracy: 0.8514 - val_loss: 1.3134 - val_accuracy: 0.5991\n",
      "Epoch 52/60\n",
      "753365/753365 [==============================] - 14s 19us/step - loss: 0.4232 - accuracy: 0.8513 - val_loss: 1.3254 - val_accuracy: 0.5556\n",
      "Epoch 53/60\n",
      "753365/753365 [==============================] - 14s 19us/step - loss: 0.4232 - accuracy: 0.8515 - val_loss: 1.3458 - val_accuracy: 0.5556\n",
      "Epoch 54/60\n",
      "753365/753365 [==============================] - 14s 19us/step - loss: 0.4231 - accuracy: 0.8517 - val_loss: 1.2998 - val_accuracy: 0.5770\n",
      "Epoch 55/60\n",
      "753365/753365 [==============================] - 15s 20us/step - loss: 0.4230 - accuracy: 0.8515 - val_loss: 1.3024 - val_accuracy: 0.5762\n",
      "Epoch 56/60\n",
      "753365/753365 [==============================] - 14s 19us/step - loss: 0.4231 - accuracy: 0.8518 - val_loss: 1.3415 - val_accuracy: 0.5508\n",
      "Epoch 57/60\n",
      "753365/753365 [==============================] - 14s 19us/step - loss: 0.4232 - accuracy: 0.8515 - val_loss: 1.2612 - val_accuracy: 0.5978\n",
      "Epoch 58/60\n",
      "753365/753365 [==============================] - 14s 19us/step - loss: 0.4230 - accuracy: 0.8516 - val_loss: 1.2796 - val_accuracy: 0.5990\n",
      "Epoch 59/60\n",
      "753365/753365 [==============================] - 14s 19us/step - loss: 0.4231 - accuracy: 0.8516 - val_loss: 1.2814 - val_accuracy: 0.6057\n",
      "Epoch 60/60\n",
      "753365/753365 [==============================] - 14s 19us/step - loss: 0.4230 - accuracy: 0.8515 - val_loss: 1.2887 - val_accuracy: 0.5981\n"
     ]
    }
   ],
   "source": [
    "history1, model1=history_model(X_train,Y_train,X_test, Y_test)"
   ]
  },
  {
   "cell_type": "code",
   "execution_count": 171,
   "metadata": {},
   "outputs": [],
   "source": [
    "#prediction\n",
    "train_pre_nn=model1.predict_classes(X_train)\n",
    "test_pre_nn=model1.predict_classes(X_test)"
   ]
  },
  {
   "cell_type": "code",
   "execution_count": 172,
   "metadata": {},
   "outputs": [],
   "source": [
    "#calculate f1 scores for test data and train data \n",
    "f1_score_test_nn=f1_score([int(i) for i in y_test],test_pre_nn,average='weighted')\n",
    "f1_score_train_nn=f1_score(y_train,train_pre_nn,average='weighted')"
   ]
  },
  {
   "cell_type": "code",
   "execution_count": 173,
   "metadata": {},
   "outputs": [
    {
     "name": "stdout",
     "output_type": "stream",
     "text": [
      "Train data f1 score:0.847333310294204\n",
      "Test data f1 score:0.6189316561286361\n"
     ]
    }
   ],
   "source": [
    "print(\"Train data f1 score:{}\".format(f1_score_train_nn))\n",
    "print(\"Test data f1 score:{}\".format(f1_score_test_nn ))"
   ]
  },
  {
   "cell_type": "code",
   "execution_count": 174,
   "metadata": {},
   "outputs": [
    {
     "name": "stdout",
     "output_type": "stream",
     "text": [
      "confusion_matrix:[[  742   429   341   126   166]\n",
      " [  417   479   671   265   221]\n",
      " [  365   635  1921  1267   669]\n",
      " [  311   586  2608  5110  4404]\n",
      " [  676   846  2936  5879 27198]]\n"
     ]
    }
   ],
   "source": [
    "print(\"confusion_matrix:{}\".format(confusion_matrix(y_test, test_pre_nn)))"
   ]
  }
 ],
 "metadata": {
  "kernelspec": {
   "display_name": "Python 3",
   "language": "python",
   "name": "python3"
  },
  "toc": {
   "base_numbering": 1,
   "nav_menu": {},
   "number_sections": true,
   "sideBar": true,
   "skip_h1_title": false,
   "title_cell": "Table of Contents",
   "title_sidebar": "Contents",
   "toc_cell": false,
   "toc_position": {
    "height": "calc(100% - 180px)",
    "left": "10px",
    "top": "150px",
    "width": "256px"
   },
   "toc_section_display": true,
   "toc_window_display": true
  }
 },
 "nbformat": 4,
 "nbformat_minor": 4
}
